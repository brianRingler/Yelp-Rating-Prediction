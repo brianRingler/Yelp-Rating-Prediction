{
 "cells": [
  {
   "cell_type": "markdown",
   "metadata": {},
   "source": [
    "***\n",
    "# Yelp Reviews \n",
    "***"
   ]
  },
  {
   "cell_type": "markdown",
   "metadata": {},
   "source": [
    "***\n",
    "# About\n",
    "***\n",
    "\n",
    "Take a small set of reviews, from **Yelp**, and predict the rating based on the user written comment. For this project we will utilize `Naive Bayes`, `Logistic Regression` and `Decision Tree`.  \n",
    "\n",
    "We will start by framing this as a **binary classification problem** by reviewing only **5-Star** and **1-Star** reviews. Then we will make it a **5-class** classification problem by using the ratings 1 - 5.\n",
    "\n",
    "This dataset is only 10,000 observations from the original dataset in CSV format. The full dataset and rules for the competition can be found [here](https://www.kaggle.com/c/yelp-recsys-2013/overview). The next phase will be taking the concepts practiced on this smaller dataset and use on the full dataset to achieve a score lower than 1.21250 (RMSE). \n",
    "\n",
    "* [Large Yelp Dataset JSON](https://www.kaggle.com/yelp-dataset/yelp-dataset)\n",
    "* [Yelp Recruiting Competition - Kaggle](https://www.kaggle.com/c/yelp-recruiting/overview)"
   ]
  },
  {
   "cell_type": "markdown",
   "metadata": {},
   "source": [
    "***\n",
    "# Index\n",
    "***\n",
    "[Imports & Functions](#imports_functions)\n",
    "\n",
    "\n",
    "[EDA Process](#eda)\n",
    "* Data, Shape & Unique Counts\n",
    "* Skewness \n",
    "\n",
    "\n",
    "[5-Star & 1-Star Only](#five_one)\n",
    "\n",
    "\n",
    "[Model Evaluation](#model_eval)\n",
    "* Train, Test, Split\n",
    "* CountVectorizer\n",
    "* Transform Training & Testing Data\n",
    "\n",
    "\n",
    "[Multinominal Naive Bayes](#nb)\n",
    "* Accuracy Score\n",
    "* Cross Validation k-fold\n",
    "* Null Accuracy \n",
    "* Confusion Matrix\n",
    "* Classification Matrix \n",
    "* Exploring Type I Errors\n",
    "* Review Attributes of Classifier \n",
    "* Calculating Predictability Each Word\n",
    "\n",
    "\n",
    "[Logistic Regression](#logreg)\n",
    "* Cross Validation \n",
    "* Accuracy Score \n",
    "\n",
    "\n",
    "[Full Dataset](#full)\n",
    "* Accuracy Score \n",
    "* Null Accuracy \n",
    "* Confusion Matrix \n",
    "* Classification Report \n",
    "* Logistic Regression w/Cross Validation \n",
    "* Naive Bayes w/Cross Validation \n",
    "* Decision Tree w/Cross Validation \n",
    "\n",
    "[Summary & Recommendation](#sum)"
   ]
  },
  {
   "cell_type": "markdown",
   "metadata": {},
   "source": [
    "<a id=\"imports_functions\"></a>\n",
    "<div class=\"alert alert-block alert-info\">\n",
    "    <font size=\"+3\"><b>Imports & Functions</b></font>\n",
    "</div>"
   ]
  },
  {
   "cell_type": "code",
   "execution_count": 228,
   "metadata": {},
   "outputs": [],
   "source": [
    "import pandas as pd\n",
    "import numpy as np\n",
    "import matplotlib.pyplot as plt\n",
    "import seaborn as sns\n",
    "from sklearn.metrics import classification_report\n",
    "from sklearn import tree\n",
    "from sklearn.feature_extraction.text import CountVectorizer\n",
    "from sklearn.model_selection import train_test_split\n",
    "from sklearn.naive_bayes import MultinomialNB\n",
    "from sklearn import metrics\n",
    "from sklearn.linear_model import LogisticRegression\n",
    "from sklearn.ensemble import RandomForestRegressor"
   ]
  },
  {
   "cell_type": "code",
   "execution_count": 229,
   "metadata": {
    "code_folding": []
   },
   "outputs": [],
   "source": [
    "# Custom Hist Functions\n",
    "def hist(d_frame, col_name,title=\"\",y_axis=\"\",x_axis=\"\",binsize=1):\n",
    "    '''Create a histogram with binsize auto set to 1'''\n",
    "    bins = np.arange(0,d_frame[col_name].max()+binsize,binsize)\n",
    "    plt.axvline(d_frame[col_name].median(),color='y',linestyle='--',lw=2,label='Median')\n",
    "    plt.axvline(d_frame[col_name].mean(),color='r',linestyle='--',lw=2,label='Mean')\n",
    "    plt.title(title,fontsize=14)\n",
    "    plt.ylabel(y_axis,fontsize=14)\n",
    "    plt.xlabel(x_axis,fontsize=14)\n",
    "    plt.xticks(fontsize=14)\n",
    "    plt.yticks(fontsize=14)\n",
    "    plt.legend(fontsize=14)\n",
    "    return plt.hist(d_frame[col_name],bins=bins);"
   ]
  },
  {
   "cell_type": "markdown",
   "metadata": {},
   "source": [
    "<a id=\"eda\"></a>\n",
    "<div class=\"alert alert-block alert-info\">\n",
    "    <font size=\"+3\"><b>EDA Process</b></font>\n",
    "</div>"
   ]
  },
  {
   "cell_type": "code",
   "execution_count": 309,
   "metadata": {},
   "outputs": [],
   "source": [
    "# import the data\n",
    "file = 'yelp.csv'\n",
    "df = pd.read_csv(file)"
   ]
  },
  {
   "cell_type": "markdown",
   "metadata": {},
   "source": [
    "## Data\n",
    "Looking at the data for the first time the initial thought is we will only need to use two features.  This will be `stars` and `text`. Based on the text feature we will try and predict the the number of stars the user rated that business.  "
   ]
  },
  {
   "cell_type": "code",
   "execution_count": 231,
   "metadata": {},
   "outputs": [
    {
     "data": {
      "text/html": [
       "<div>\n",
       "<style scoped>\n",
       "    .dataframe tbody tr th:only-of-type {\n",
       "        vertical-align: middle;\n",
       "    }\n",
       "\n",
       "    .dataframe tbody tr th {\n",
       "        vertical-align: top;\n",
       "    }\n",
       "\n",
       "    .dataframe thead th {\n",
       "        text-align: right;\n",
       "    }\n",
       "</style>\n",
       "<table border=\"1\" class=\"dataframe\">\n",
       "  <thead>\n",
       "    <tr style=\"text-align: right;\">\n",
       "      <th></th>\n",
       "      <th>business_id</th>\n",
       "      <th>date</th>\n",
       "      <th>review_id</th>\n",
       "      <th>stars</th>\n",
       "      <th>text</th>\n",
       "      <th>type</th>\n",
       "      <th>user_id</th>\n",
       "      <th>cool</th>\n",
       "      <th>useful</th>\n",
       "      <th>funny</th>\n",
       "    </tr>\n",
       "  </thead>\n",
       "  <tbody>\n",
       "    <tr>\n",
       "      <th>0</th>\n",
       "      <td>9yKzy9PApeiPPOUJEtnvkg</td>\n",
       "      <td>2011-01-26</td>\n",
       "      <td>fWKvX83p0-ka4JS3dc6E5A</td>\n",
       "      <td>5</td>\n",
       "      <td>My wife took me here on my birthday for breakf...</td>\n",
       "      <td>review</td>\n",
       "      <td>rLtl8ZkDX5vH5nAx9C3q5Q</td>\n",
       "      <td>2</td>\n",
       "      <td>5</td>\n",
       "      <td>0</td>\n",
       "    </tr>\n",
       "    <tr>\n",
       "      <th>1</th>\n",
       "      <td>ZRJwVLyzEJq1VAihDhYiow</td>\n",
       "      <td>2011-07-27</td>\n",
       "      <td>IjZ33sJrzXqU-0X6U8NwyA</td>\n",
       "      <td>5</td>\n",
       "      <td>I have no idea why some people give bad review...</td>\n",
       "      <td>review</td>\n",
       "      <td>0a2KyEL0d3Yb1V6aivbIuQ</td>\n",
       "      <td>0</td>\n",
       "      <td>0</td>\n",
       "      <td>0</td>\n",
       "    </tr>\n",
       "    <tr>\n",
       "      <th>2</th>\n",
       "      <td>6oRAC4uyJCsJl1X0WZpVSA</td>\n",
       "      <td>2012-06-14</td>\n",
       "      <td>IESLBzqUCLdSzSqm0eCSxQ</td>\n",
       "      <td>4</td>\n",
       "      <td>love the gyro plate. Rice is so good and I als...</td>\n",
       "      <td>review</td>\n",
       "      <td>0hT2KtfLiobPvh6cDC8JQg</td>\n",
       "      <td>0</td>\n",
       "      <td>1</td>\n",
       "      <td>0</td>\n",
       "    </tr>\n",
       "    <tr>\n",
       "      <th>3</th>\n",
       "      <td>_1QQZuf4zZOyFCvXc0o6Vg</td>\n",
       "      <td>2010-05-27</td>\n",
       "      <td>G-WvGaISbqqaMHlNnByodA</td>\n",
       "      <td>5</td>\n",
       "      <td>Rosie, Dakota, and I LOVE Chaparral Dog Park!!...</td>\n",
       "      <td>review</td>\n",
       "      <td>uZetl9T0NcROGOyFfughhg</td>\n",
       "      <td>1</td>\n",
       "      <td>2</td>\n",
       "      <td>0</td>\n",
       "    </tr>\n",
       "    <tr>\n",
       "      <th>4</th>\n",
       "      <td>6ozycU1RpktNG2-1BroVtw</td>\n",
       "      <td>2012-01-05</td>\n",
       "      <td>1uJFq2r5QfJG_6ExMRCaGw</td>\n",
       "      <td>5</td>\n",
       "      <td>General Manager Scott Petello is a good egg!!!...</td>\n",
       "      <td>review</td>\n",
       "      <td>vYmM4KTsC8ZfQBg-j5MWkw</td>\n",
       "      <td>0</td>\n",
       "      <td>0</td>\n",
       "      <td>0</td>\n",
       "    </tr>\n",
       "  </tbody>\n",
       "</table>\n",
       "</div>"
      ],
      "text/plain": [
       "              business_id        date               review_id  stars  \\\n",
       "0  9yKzy9PApeiPPOUJEtnvkg  2011-01-26  fWKvX83p0-ka4JS3dc6E5A      5   \n",
       "1  ZRJwVLyzEJq1VAihDhYiow  2011-07-27  IjZ33sJrzXqU-0X6U8NwyA      5   \n",
       "2  6oRAC4uyJCsJl1X0WZpVSA  2012-06-14  IESLBzqUCLdSzSqm0eCSxQ      4   \n",
       "3  _1QQZuf4zZOyFCvXc0o6Vg  2010-05-27  G-WvGaISbqqaMHlNnByodA      5   \n",
       "4  6ozycU1RpktNG2-1BroVtw  2012-01-05  1uJFq2r5QfJG_6ExMRCaGw      5   \n",
       "\n",
       "                                                text    type  \\\n",
       "0  My wife took me here on my birthday for breakf...  review   \n",
       "1  I have no idea why some people give bad review...  review   \n",
       "2  love the gyro plate. Rice is so good and I als...  review   \n",
       "3  Rosie, Dakota, and I LOVE Chaparral Dog Park!!...  review   \n",
       "4  General Manager Scott Petello is a good egg!!!...  review   \n",
       "\n",
       "                  user_id  cool  useful  funny  \n",
       "0  rLtl8ZkDX5vH5nAx9C3q5Q     2       5      0  \n",
       "1  0a2KyEL0d3Yb1V6aivbIuQ     0       0      0  \n",
       "2  0hT2KtfLiobPvh6cDC8JQg     0       1      0  \n",
       "3  uZetl9T0NcROGOyFfughhg     1       2      0  \n",
       "4  vYmM4KTsC8ZfQBg-j5MWkw     0       0      0  "
      ]
     },
     "execution_count": 231,
     "metadata": {},
     "output_type": "execute_result"
    }
   ],
   "source": [
    "df.head()"
   ]
  },
  {
   "cell_type": "markdown",
   "metadata": {},
   "source": [
    "## Shape and Unique Counts \n",
    "The dataset is 10,000 observations with 10 features of which our initial primary focus will be on `text` and `stars`. However, we should poke around the dataset to confirm this is what we want.  \n",
    "\n",
    "1. Taking a look at the unique counts of a few features we see that `text` is almost 100 percent unique with exception of 2 reviews. \n",
    "2. `Stars` is equal to 5 so this confirm there are not any errors \n",
    "3. `Type ID` is 1 so we are only doing an analysis on the type `reviews`. There are probably other review classifications for Yelp but we are not aware of these type and at this time are probably not a concern.  However, if we wanted to move forward with using our model on another `review type` we would need to introduce that review type into our model training. 4.  `Business ID` indicates that about 40% of the business is unique and as anticipated the `review id` is 100 percent unique.\n",
    "5. Of the users submitting reviews `64 percent` are unique.\n",
    "6. `Cool`, `Useful` and `Funny` are not on a 1 - 5 rating. They have values that are substantially higher with a higher spread which is most likely attributed the expanded rating scale. For now these will be ignored. "
   ]
  },
  {
   "cell_type": "code",
   "execution_count": 232,
   "metadata": {},
   "outputs": [
    {
     "data": {
      "text/plain": [
       "(10000, 10)"
      ]
     },
     "execution_count": 232,
     "metadata": {},
     "output_type": "execute_result"
    }
   ],
   "source": [
    "# shape of the dataframe\n",
    "df.shape"
   ]
  },
  {
   "cell_type": "code",
   "execution_count": 233,
   "metadata": {
    "code_folding": [
     0
    ]
   },
   "outputs": [
    {
     "name": "stdout",
     "output_type": "stream",
     "text": [
      "Text Unqique Count:\t\t 9998\n",
      "Stars ID Unqique Count:\t\t 5\n",
      "Type ID Unqique Count:\t\t 1\n",
      "Business ID Unqique Count:\t 4174\n",
      "Review ID Unqique Count:\t 10000\n",
      "User ID Unqique Count:\t\t 6403\n"
     ]
    }
   ],
   "source": [
    "# unique counts\n",
    "print(f\"Text Unqique Count:\\t\\t {df['text'].nunique()}\")\n",
    "print(f\"Stars ID Unqique Count:\\t\\t {df['stars'].nunique()}\")\n",
    "print(f\"Type ID Unqique Count:\\t\\t {df['type'].nunique()}\")\n",
    "print(f\"Business ID Unqique Count:\\t {df['business_id'].nunique()}\")\n",
    "print(f\"Review ID Unqique Count:\\t {df['review_id'].nunique()}\")\n",
    "print(f\"User ID Unqique Count:\\t\\t {df['user_id'].nunique()}\")"
   ]
  },
  {
   "cell_type": "markdown",
   "metadata": {},
   "source": [
    "## Skewness\n",
    "The 5 star rating system for this data set is skewed to the left with with a mean of **3.77** and a median of **4.00**. "
   ]
  },
  {
   "cell_type": "code",
   "execution_count": 234,
   "metadata": {},
   "outputs": [
    {
     "data": {
      "text/html": [
       "<div>\n",
       "<style scoped>\n",
       "    .dataframe tbody tr th:only-of-type {\n",
       "        vertical-align: middle;\n",
       "    }\n",
       "\n",
       "    .dataframe tbody tr th {\n",
       "        vertical-align: top;\n",
       "    }\n",
       "\n",
       "    .dataframe thead th {\n",
       "        text-align: right;\n",
       "    }\n",
       "</style>\n",
       "<table border=\"1\" class=\"dataframe\">\n",
       "  <thead>\n",
       "    <tr style=\"text-align: right;\">\n",
       "      <th></th>\n",
       "      <th>stars</th>\n",
       "      <th>cool</th>\n",
       "      <th>useful</th>\n",
       "      <th>funny</th>\n",
       "    </tr>\n",
       "  </thead>\n",
       "  <tbody>\n",
       "    <tr>\n",
       "      <th>count</th>\n",
       "      <td>10000.000000</td>\n",
       "      <td>10000.000000</td>\n",
       "      <td>10000.000000</td>\n",
       "      <td>10000.000000</td>\n",
       "    </tr>\n",
       "    <tr>\n",
       "      <th>mean</th>\n",
       "      <td>3.777500</td>\n",
       "      <td>0.876800</td>\n",
       "      <td>1.409300</td>\n",
       "      <td>0.701300</td>\n",
       "    </tr>\n",
       "    <tr>\n",
       "      <th>std</th>\n",
       "      <td>1.214636</td>\n",
       "      <td>2.067861</td>\n",
       "      <td>2.336647</td>\n",
       "      <td>1.907942</td>\n",
       "    </tr>\n",
       "    <tr>\n",
       "      <th>min</th>\n",
       "      <td>1.000000</td>\n",
       "      <td>0.000000</td>\n",
       "      <td>0.000000</td>\n",
       "      <td>0.000000</td>\n",
       "    </tr>\n",
       "    <tr>\n",
       "      <th>25%</th>\n",
       "      <td>3.000000</td>\n",
       "      <td>0.000000</td>\n",
       "      <td>0.000000</td>\n",
       "      <td>0.000000</td>\n",
       "    </tr>\n",
       "    <tr>\n",
       "      <th>50%</th>\n",
       "      <td>4.000000</td>\n",
       "      <td>0.000000</td>\n",
       "      <td>1.000000</td>\n",
       "      <td>0.000000</td>\n",
       "    </tr>\n",
       "    <tr>\n",
       "      <th>75%</th>\n",
       "      <td>5.000000</td>\n",
       "      <td>1.000000</td>\n",
       "      <td>2.000000</td>\n",
       "      <td>1.000000</td>\n",
       "    </tr>\n",
       "    <tr>\n",
       "      <th>max</th>\n",
       "      <td>5.000000</td>\n",
       "      <td>77.000000</td>\n",
       "      <td>76.000000</td>\n",
       "      <td>57.000000</td>\n",
       "    </tr>\n",
       "  </tbody>\n",
       "</table>\n",
       "</div>"
      ],
      "text/plain": [
       "              stars          cool        useful         funny\n",
       "count  10000.000000  10000.000000  10000.000000  10000.000000\n",
       "mean       3.777500      0.876800      1.409300      0.701300\n",
       "std        1.214636      2.067861      2.336647      1.907942\n",
       "min        1.000000      0.000000      0.000000      0.000000\n",
       "25%        3.000000      0.000000      0.000000      0.000000\n",
       "50%        4.000000      0.000000      1.000000      0.000000\n",
       "75%        5.000000      1.000000      2.000000      1.000000\n",
       "max        5.000000     77.000000     76.000000     57.000000"
      ]
     },
     "execution_count": 234,
     "metadata": {},
     "output_type": "execute_result"
    }
   ],
   "source": [
    "# stats num data\n",
    "df.describe()"
   ]
  },
  {
   "cell_type": "code",
   "execution_count": 235,
   "metadata": {},
   "outputs": [
    {
     "data": {
      "image/png": "[encoded data removed]",
      "text/plain": [
       "<Figure size 576x360 with 1 Axes>"
      ]
     },
     "metadata": {
      "needs_background": "light"
     },
     "output_type": "display_data"
    }
   ],
   "source": [
    "plt.figure(figsize = [8,5])\n",
    "hist(df,'stars','Yelp Business Reviews: Star Rating', 'Count', 'Stars');"
   ]
  },
  {
   "cell_type": "markdown",
   "metadata": {},
   "source": [
    "<a id=\"five_one\"></a>\n",
    "<div class=\"alert alert-block alert-info\">\n",
    "    <font size=\"+3\"><b>5-Star & 1-Star</b></font>\n",
    "</div>"
   ]
  },
  {
   "cell_type": "markdown",
   "metadata": {},
   "source": [
    "### 5-Star & 1-Start Count\n",
    "After dropping 2, 3 and 4 star reviews there is a total of **4,086** observations. The new dataframe will be called `df2`.\n",
    "* **5-Star** 3,337\n",
    "* **1-Star** 749"
   ]
  },
  {
   "cell_type": "code",
   "execution_count": 236,
   "metadata": {},
   "outputs": [
    {
     "data": {
      "text/plain": [
       "5    3337\n",
       "1     749\n",
       "Name: stars, dtype: int64"
      ]
     },
     "execution_count": 236,
     "metadata": {},
     "output_type": "execute_result"
    }
   ],
   "source": [
    "# Create and valdiate the new dataframe only has 5 and 1 star ratings\n",
    "df2 = df[(df['stars'] > 4) | (df['stars'] < 2)]\n",
    "df2['stars'].value_counts()"
   ]
  },
  {
   "cell_type": "code",
   "execution_count": 237,
   "metadata": {},
   "outputs": [
    {
     "name": "stdout",
     "output_type": "stream",
     "text": [
      "Shape df2: (4086, 10)\n",
      "Shape df: (10000, 10)\n"
     ]
    }
   ],
   "source": [
    "# check the observation count \n",
    "print(f\"Shape df2: {df2.shape}\")\n",
    "print(f\"Shape df: {df.shape}\")"
   ]
  },
  {
   "cell_type": "markdown",
   "metadata": {},
   "source": [
    "### Split Data\n",
    "Here we are going to split the data into 4 sections. We will use `X` and `y` for the full dataset (10,000 observations). The modified dataset with only `5-Star` and `1-Star` ratings will be assigned to `X2` and `y2`. `X2` will be the **text** and `y2` will be the **ratings**, which is either a 5 or 1.  The data type will be a panda series.  "
   ]
  },
  {
   "cell_type": "code",
   "execution_count": 238,
   "metadata": {},
   "outputs": [],
   "source": [
    "# X will be the text data which needs to be 1d and y will be 1d, as always\n",
    "X2 = df2['text']\n",
    "y2 = df2['stars']\n",
    "\n",
    "# split based on all 10,000 observastions \n",
    "X = df['text']\n",
    "y = df['stars']"
   ]
  },
  {
   "cell_type": "code",
   "execution_count": 239,
   "metadata": {
    "code_folding": [
     0
    ]
   },
   "outputs": [
    {
     "name": "stdout",
     "output_type": "stream",
     "text": [
      "<class 'pandas.core.series.Series'>\n",
      "<class 'pandas.core.series.Series'>\n",
      "**********Confirm panda Series**********\n",
      "<class 'pandas.core.series.Series'>\n",
      "<class 'pandas.core.series.Series'>\n"
     ]
    }
   ],
   "source": [
    "# check data type should be a panda series or np array for passing to CountVectorizer\n",
    "print(type(X2))\n",
    "print(type(y2))\n",
    "print('*'*10 + 'Confirm panda Series' + '*'*10)\n",
    "print(type(X))\n",
    "print(type(y))"
   ]
  },
  {
   "cell_type": "markdown",
   "metadata": {},
   "source": [
    "<a id=\"model_eval\"></a>\n",
    "### Model Evaluation \n",
    "Now we want to decide what model evaluation to use.  Typically, we do not want to train and test our data on the same data set.  For our evaluation process we will use **Train, Test, Split** and **K-fold cross-validation**.  We can compare them to determine which one to use on the full dataset. \n",
    "\n",
    "\n",
    "1. **Train/test split**\n",
    "  * Split the dataset into two pieces, so that the model can be trained and tested on different data\n",
    "  * Useful due to its speed, simplicity, and flexibility\n",
    "  * Default split is 75/25 where 75 equals training\n",
    "\n",
    "\n",
    "2. **K-fold cross-validation**\n",
    "  * Using stratified sampling to create \"K\" train/test splits and average the results together\n",
    "  * Typically k = 10\n",
    "  * Runs \"K\" times slower than train/test split "
   ]
  },
  {
   "cell_type": "markdown",
   "metadata": {},
   "source": [
    "### Train, Test, Split"
   ]
  },
  {
   "cell_type": "code",
   "execution_count": 240,
   "metadata": {},
   "outputs": [],
   "source": [
    "# Split X2 and y2 data for training and testing\n",
    "X2_train, X2_test, y2_train, y2_test = train_test_split(X2, y2, random_state=42)\n",
    "\n",
    "# Split X and y...based on the original 'df'\n",
    "X_train, X_test, y_train, y_test = train_test_split(X, y, random_state=42)"
   ]
  },
  {
   "cell_type": "code",
   "execution_count": 241,
   "metadata": {
    "code_folding": []
   },
   "outputs": [
    {
     "name": "stdout",
     "output_type": "stream",
     "text": [
      "Validate shape of data for X2 and y2\n",
      "X2_train Shape:\t(3064,)\n",
      "X2_test Shape:\t(1022,)\n",
      "y2_train Shape:\t(3064,)\n",
      "y2_test Shape:\t(1022,)\n",
      "\n",
      "Validate shape of data for X and y\n",
      "X_train Shape:\t(7500,)\n",
      "X_test Shape:\t(2500,)\n",
      "y_train Shape:\t(7500,)\n",
      "y_test Shape:\t(2500,)\n"
     ]
    }
   ],
   "source": [
    "# Check the shape after applying train, test, split\n",
    "print('Validate shape of data for X2 and y2')\n",
    "print(f\"X2_train Shape:\\t{X2_train.shape}\")\n",
    "print(f\"X2_test Shape:\\t{X2_test.shape}\")\n",
    "print(f\"y2_train Shape:\\t{y2_train.shape}\")\n",
    "print(f\"y2_test Shape:\\t{y2_test.shape}\\n\")\n",
    "\n",
    "print('Validate shape of data for X and y')\n",
    "print(f\"X_train Shape:\\t{X_train.shape}\")\n",
    "print(f\"X_test Shape:\\t{X_test.shape}\")\n",
    "print(f\"y_train Shape:\\t{y_train.shape}\")\n",
    "print(f\"y_test Shape:\\t{y_test.shape}\")"
   ]
  },
  {
   "cell_type": "markdown",
   "metadata": {},
   "source": [
    "### CountVectorizer\n",
    "Using `CountVectorizer` from sklearn will convert a collection of text documents to a matrix of `token counts`. The returned result will be a sparse representation of the `counts` using `scipy.sparse.csr_matrix`. \n",
    "\n",
    "We apply **vect** using the sklearn `fit() method` and this should only be completed on the training data. Fit will learn a vocabulary dictionary of all `tokens` in the raw documents. At this point we are NOT adjusting any of the default parameters.  One default to remember is `token_pattern` which is a a regualr expression selects only words/tokens of **2** or more alphanumeric characters (punctuation is completely ignored)."
   ]
  },
  {
   "cell_type": "code",
   "execution_count": 242,
   "metadata": {},
   "outputs": [
    {
     "data": {
      "text/plain": [
       "CountVectorizer(analyzer='word', binary=False, decode_error='strict',\n",
       "                dtype=<class 'numpy.int64'>, encoding='utf-8', input='content',\n",
       "                lowercase=True, max_df=1.0, max_features=None, min_df=1,\n",
       "                ngram_range=(1, 1), preprocessor=None, stop_words=None,\n",
       "                strip_accents=None, token_pattern='(?u)\\\\b\\\\w\\\\w+\\\\b',\n",
       "                tokenizer=None, vocabulary=None)"
      ]
     },
     "execution_count": 242,
     "metadata": {},
     "output_type": "execute_result"
    }
   ],
   "source": [
    "# learn training data vocabulary, then use it to create a document-term matrix\n",
    "# this happens in-place \n",
    "vect = CountVectorizer()\n",
    "# fit X2_train 5/1 star dataset\n",
    "vect.fit(X2_train)\n",
    "# full dataset \n",
    "vect.fit(X_train)"
   ]
  },
  {
   "cell_type": "markdown",
   "metadata": {},
   "source": [
    "### Transform Training and Testing Data\n",
    "In the transforming process we are using the fitted vocabulary to create a \n",
    "`Document-term matrix` (DTM). **NOTE**, we used two individual methods: `fit()` and `transform()`.  We could have done this in ONE step using `fit_transform()` which does both steps at the same time.  \n",
    "\n",
    "**NOTE** we could have only used `fit_transform()` on the training data as we do not want to fit the testing data. If we fit() the testing data then our testing data would have learned the vocabulary which would artificially create a good predictive model. "
   ]
  },
  {
   "cell_type": "code",
   "execution_count": 243,
   "metadata": {},
   "outputs": [],
   "source": [
    "# transform testing data (using fitted vocabulary) into a document-term matrix\n",
    "X2_train_dtm = vect.transform(X2_train)\n",
    "X2_test_dtm = vect.transform(X2_test)\n",
    "\n",
    "# transform the full dataset\n",
    "X_train_dtm = vect.transform(X_train)\n",
    "X_test_dtm = vect.transform(X_test)"
   ]
  },
  {
   "cell_type": "code",
   "execution_count": 244,
   "metadata": {},
   "outputs": [
    {
     "data": {
      "text/plain": [
       "<3064x25800 sparse matrix of type '<class 'numpy.int64'>'\n",
       "\twith 235335 stored elements in Compressed Sparse Row format>"
      ]
     },
     "execution_count": 244,
     "metadata": {},
     "output_type": "execute_result"
    }
   ],
   "source": [
    "# training data 5/1 star only\n",
    "X2_train_dtm"
   ]
  },
  {
   "cell_type": "code",
   "execution_count": 245,
   "metadata": {},
   "outputs": [
    {
     "data": {
      "text/plain": [
       "<1022x25800 sparse matrix of type '<class 'numpy.int64'>'\n",
       "\twith 80457 stored elements in Compressed Sparse Row format>"
      ]
     },
     "execution_count": 245,
     "metadata": {},
     "output_type": "execute_result"
    }
   ],
   "source": [
    "# testing data 5/1 star only\n",
    "X2_test_dtm"
   ]
  },
  {
   "cell_type": "code",
   "execution_count": 246,
   "metadata": {},
   "outputs": [
    {
     "data": {
      "text/plain": [
       "<7500x25800 sparse matrix of type '<class 'numpy.int64'>'\n",
       "\twith 624610 stored elements in Compressed Sparse Row format>"
      ]
     },
     "execution_count": 246,
     "metadata": {},
     "output_type": "execute_result"
    }
   ],
   "source": [
    "# training data full dataset\n",
    "X_train_dtm"
   ]
  },
  {
   "cell_type": "code",
   "execution_count": 247,
   "metadata": {},
   "outputs": [
    {
     "data": {
      "text/plain": [
       "<2500x25800 sparse matrix of type '<class 'numpy.int64'>'\n",
       "\twith 198816 stored elements in Compressed Sparse Row format>"
      ]
     },
     "execution_count": 247,
     "metadata": {},
     "output_type": "execute_result"
    }
   ],
   "source": [
    "# testing data  full dataset\n",
    "X_test_dtm"
   ]
  },
  {
   "cell_type": "markdown",
   "metadata": {},
   "source": [
    "<a id=\"nb\"></a>\n",
    "## Multinominal Naive Bayes Model \n",
    "Here we will use the Multinominal Naive Bayes classifier to create one one each dataset and we will label them `nb` and `nb2`. Note the difference in time it takes to run the models. These are small datasets so imagine when they increase how much time this process can take. When we run logistic regression on the full data set it will probably be around 30 ms. \n",
    "\n",
    "After creating the classifier we will use `fit()` method to fit the Naive Bayes classifier according to X2 and y2. As well, X and y for the full dataset. Then using the `predict()` method we cna perform classification on an array of test vectors: X and X2.  \n",
    "\n",
    "\n",
    "[Multinominal Naive Bayes](https://scikit-learn.org/stable/modules/generated/sklearn.naive_bayes.MultinomialNB.html)"
   ]
  },
  {
   "cell_type": "code",
   "execution_count": 248,
   "metadata": {},
   "outputs": [
    {
     "name": "stdout",
     "output_type": "stream",
     "text": [
      "Wall time: 2.97 ms\n"
     ]
    },
    {
     "data": {
      "text/plain": [
       "MultinomialNB(alpha=1.0, class_prior=None, fit_prior=True)"
      ]
     },
     "execution_count": 248,
     "metadata": {},
     "output_type": "execute_result"
    }
   ],
   "source": [
    "# create  a NB classifier called nb2\n",
    "nb2 = MultinomialNB()\n",
    "\n",
    "# Train two models nb and nb2\n",
    "# compare model and time for how long it takes (recall this is SMALL data set)\n",
    "%time nb2.fit(X2_train_dtm, y2_train)"
   ]
  },
  {
   "cell_type": "code",
   "execution_count": 249,
   "metadata": {},
   "outputs": [
    {
     "name": "stdout",
     "output_type": "stream",
     "text": [
      "Wall time: 7.96 ms\n"
     ]
    },
    {
     "data": {
      "text/plain": [
       "MultinomialNB(alpha=1.0, class_prior=None, fit_prior=True)"
      ]
     },
     "execution_count": 249,
     "metadata": {},
     "output_type": "execute_result"
    }
   ],
   "source": [
    "# create  a NB classifier called nb based on full dataset\n",
    "nb = MultinomialNB()\n",
    "%time nb.fit(X_train_dtm, y_train)"
   ]
  },
  {
   "cell_type": "markdown",
   "metadata": {},
   "source": [
    "## Making Predictions \n",
    "Now we want to make predictions using the testing data. Using "
   ]
  },
  {
   "cell_type": "code",
   "execution_count": 250,
   "metadata": {},
   "outputs": [],
   "source": [
    "# make class predictions for X2_test_dtm\n",
    "y2_pred_class = nb2.predict(X2_test_dtm)\n",
    "\n",
    "# make class predictions for X_test_dtm (Full dataset)\n",
    "y_pred_class = nb.predict(X_test_dtm)"
   ]
  },
  {
   "cell_type": "markdown",
   "metadata": {},
   "source": [
    "### Accuracy Score\n",
    "This will measure the difference between **y** and **$\\hat{y}$**. To use input a 1d array of `y-values` and `y-predicted` values.  Recall, we want to use the prediction class\n",
    "that comes from our test data which has **NOT** seen the fit process. \n",
    "\n",
    "The accuracy score for this model using only 5-Star and 1-Star reviews is 90%. \n",
    "\n",
    "\n",
    "[Accuracy Score](https://scikit-learn.org/stable/modules/model_evaluation.html#accuracy-score)"
   ]
  },
  {
   "cell_type": "code",
   "execution_count": 251,
   "metadata": {},
   "outputs": [
    {
     "data": {
      "text/plain": [
       "0.901174168297456"
      ]
     },
     "execution_count": 251,
     "metadata": {},
     "output_type": "execute_result"
    }
   ],
   "source": [
    "# check the accuracy score \n",
    "metrics.accuracy_score(y2_test, y2_pred_class)"
   ]
  },
  {
   "cell_type": "markdown",
   "metadata": {},
   "source": [
    "### Cross Validation Score \n",
    "Keeping with the simple approach we will now use `sklearn cross validation` to measure the accuracy of our model. A couple of reasons we like using K-fold Cross-Validation:\n",
    "1. It automatically splits the data for us. In the code below the first three arguments are:\n",
    "  * the classifier which is set to `MultiNominalNB()` \n",
    "  * all of the learned text converted to document-term matrix.  NOTE: For a logistic regression problem this would just be \"X\". \n",
    "  * The third argument is all of the 5 and 1 start ratings\n",
    "2. Better predictor of how the model will preform with data in production \n",
    "\n",
    "We have Cross validation set at `CV=5` meaning 5 stratified random samples will be taken and the accuracy score will be returned. The is the first output below and the second output is the mean score of those 5 samples.  NOTE: Stratified sampling ensures each of the k folds has a balanced mix. \n",
    "\n",
    "Based on the improved score this will be the process used for validation of the larger dataset. \n",
    "\n",
    "[Cross-validation Docs](https://scikit-learn.org/stable/modules/generated/sklearn.model_selection.cross_val_score.html)"
   ]
  },
  {
   "cell_type": "code",
   "execution_count": 252,
   "metadata": {},
   "outputs": [
    {
     "name": "stdout",
     "output_type": "stream",
     "text": [
      "[0.89853301 0.92166463 0.93145655 0.92288862 0.92900857]\n",
      "Mean Score: 0.9207102734376169\n"
     ]
    }
   ],
   "source": [
    "from sklearn.model_selection import cross_val_score\n",
    "\n",
    "# fit_transform all 5-Star and 1-Star reviews into a document-term matrix\n",
    "# Also, ntoe here we can just use fit_transform\n",
    "X2_dtm = vect.fit_transform(X2)\n",
    "\n",
    "# this wil be used latter on when we run model on all reviews \n",
    "X_dtm = vect.fit_transform(X)\n",
    "\n",
    "print(cross_val_score(nb2, X2_dtm, y2, cv=5,scoring='accuracy'))\n",
    "print(f\"Mean Score: {cross_val_score(nb2, X2_dtm, y2, cv=5,scoring='accuracy').mean()}\")"
   ]
  },
  {
   "cell_type": "markdown",
   "metadata": {},
   "source": [
    "### Null Accuracy \n",
    "Using the sklearn accuracy score we found that our `NB` classifier predicted the correct start rating 90% of the time. Is 90% accuracy good enough? One way to look at this is to calculate the `Null Accuracy` and use this as a baseline for our comparison.  \n",
    "\n",
    "The `Null Accuracy` in taking the most frequent class and predicting that value each time. In our example this would be the greater of `5-star` and `1-star` reviews.  We can obtain this by taking the count of `y_test` and for the constructed NB the greater of the two is 5-star ratings at 80%.\n",
    "\n",
    "Thus, our classifier predicts 10% better than what could have been done by simply selecting 5 star reviews each time.  Is this good enough?"
   ]
  },
  {
   "cell_type": "code",
   "execution_count": 253,
   "metadata": {},
   "outputs": [
    {
     "name": "stdout",
     "output_type": "stream",
     "text": [
      "5 Stars count: 823\n",
      "1 Stars count: 199\n"
     ]
    }
   ],
   "source": [
    "# calculate the number of 5 and 1 star reviews \n",
    "five_stars = y2_test.value_counts()\n",
    "print(f\"5 Stars count: {five_stars.iloc[0]}\")\n",
    "print(f\"1 Stars count: {five_stars.iloc[1]}\")"
   ]
  },
  {
   "cell_type": "code",
   "execution_count": 254,
   "metadata": {},
   "outputs": [
    {
     "name": "stdout",
     "output_type": "stream",
     "text": [
      "5-Stars as Percent of Testing Data: 0.8052837573385518\n",
      "1-Stars as Percent of Testing Data: 0.19471624266144813\n"
     ]
    }
   ],
   "source": [
    "# as a percent \n",
    "print(f\"5-Stars as Percent of Testing Data: {five_stars.iloc[0]/len(y2_test)}\")\n",
    "print(f\"1-Stars as Percent of Testing Data: {five_stars.iloc[1]/len(y2_test)}\")"
   ]
  },
  {
   "cell_type": "markdown",
   "metadata": {},
   "source": [
    "### Confusion Matrix \n",
    "Looking at the confusing matrix we want to now explore the predictions that our model did not predict correctly. The `False Positive` or `Type I Error` for this dataset was predicting a 5-star review when it was actually a 1 star. This occurred 76 times compared with the `False Negative` or `Type II Error` which occurred 18 times. \n",
    "**Positive** = 5\n",
    "**Negative** = 1\n",
    "\n",
    "\n",
    "- Upper left: True Negative Correctly Predicted 1-Star Reviews\n",
    "- Lower Left: False Negative Falsely Predicted 1-Star Reviews  \n",
    "- Upper Right: False Positive Falsely Predicted 5-Star Reviews\n",
    "- Lower Right: True Positive Correctly Predicted 5-Star Reviews"
   ]
  },
  {
   "cell_type": "code",
   "execution_count": 255,
   "metadata": {},
   "outputs": [
    {
     "data": {
      "text/plain": [
       "array([[108,  91],\n",
       "       [ 10, 813]], dtype=int64)"
      ]
     },
     "execution_count": 255,
     "metadata": {},
     "output_type": "execute_result"
    }
   ],
   "source": [
    "# calcualte the confusion matrix\n",
    "# actual or True y results are always first in sklearn\n",
    "cm2 = metrics.confusion_matrix(y2_test, y2_pred_class)\n",
    "cm2"
   ]
  },
  {
   "cell_type": "code",
   "execution_count": 256,
   "metadata": {
    "code_folding": [
     0
    ]
   },
   "outputs": [
    {
     "data": {
      "image/png": "[encoded data removed]",
      "text/plain": [
       "<Figure size 720x360 with 2 Axes>"
      ]
     },
     "metadata": {
      "needs_background": "light"
     },
     "output_type": "display_data"
    }
   ],
   "source": [
    "# plot the confusion matrix\n",
    "plt.figure(figsize = [10,5])\n",
    "ax= plt.subplot()\n",
    "sns.heatmap(cm2, annot=True, ax = ax,fmt=\"d\",annot_kws={'size':16},\n",
    "            linewidths=1.0, cmap=\"coolwarm\"); #annot=True to annotate cells\n",
    "\n",
    "ax.set_xlabel('Predicted labels');\n",
    "ax.set_ylabel('True labels'); \n",
    "ax.set_title('Confusion Matrix'); \n",
    "ax.xaxis.set_ticklabels(['1-Star', '5-Star']); \n",
    "ax.yaxis.set_ticklabels(['1-Star', '5-Star']);"
   ]
  },
  {
   "cell_type": "markdown",
   "metadata": {},
   "source": [
    "## Classification Matrix \n",
    "* **Accuracy**: \n",
    "  * Overall how often is the classifier correct. \n",
    "  * Adding all the numbers along the diagonal (TP + TN) / Total \n",
    "  \n",
    "  \n",
    "* **Misclassification Rate**:\n",
    "  * Overall, how often is it wrong\n",
    "  * (FP + FN) / Total \n",
    "  * Also called the `Error Rate`\n",
    "  \n",
    "  \n",
    "* **True Positive Rate**\n",
    "  * Also called `Recall`  or `Sensitivity`\n",
    "  * Recall =  TP / (TP + FN)\n",
    "  * Out of `all` the positive classes, how much we predicted correctly\n",
    "  \n",
    "  \n",
    "* **False Positive Rate**  \n",
    "  * How often do we predict True but its actually False\n",
    "  * FP / (FP + TN)\n",
    "  \n",
    "  \n",
    "* **True Negative Rate or Specificity**  \n",
    "  * How often do we predict False but its actually True\n",
    "  * TN / (FP + TN)\n",
    "  * Also, equal to 1 - False Positive Rate\n",
    "  \n",
    "  \n",
    "* **Precision**\n",
    "  * Precision = TP / (TP + FP)\n",
    "  * Out of all the True predictions we made...how correct where those predictions\n",
    "  * TP / (TP + FP)"
   ]
  },
  {
   "cell_type": "code",
   "execution_count": 257,
   "metadata": {},
   "outputs": [
    {
     "name": "stdout",
     "output_type": "stream",
     "text": [
      "              precision    recall  f1-score   support\n",
      "\n",
      "      1-Star       0.92      0.54      0.68       199\n",
      "      5-Star       0.90      0.99      0.94       823\n",
      "\n",
      "    accuracy                           0.90      1022\n",
      "   macro avg       0.91      0.77      0.81      1022\n",
      "weighted avg       0.90      0.90      0.89      1022\n",
      "\n"
     ]
    }
   ],
   "source": [
    "# run classification report \n",
    "target_names = ['1-Star', '5-Star']\n",
    "print(classification_report(y2_test, y2_pred_class, target_names=target_names))"
   ]
  },
  {
   "cell_type": "code",
   "execution_count": 258,
   "metadata": {},
   "outputs": [
    {
     "name": "stdout",
     "output_type": "stream",
     "text": [
      "Total =\t\t\t\t 1022\n",
      "Accuracy =\t\t\t 0.9012\n",
      "Misclassification Rate =\t 0.0988\n",
      "True Positive Rate (Recall) =\t 0.9878\n",
      "False Positive Rate =\t\t 0.4573\n",
      "True Negative Rate =\t\t 0.5427\n",
      "Precision =\t\t\t 0.8993\n"
     ]
    }
   ],
   "source": [
    "# manual calculations for confusion matrix and classification report\n",
    "tn, fn, fp, tp = cm2[0,0], cm2[1,0], cm2[0,1] , cm2[1,1]\n",
    "print(f\"Total =\\t\\t\\t\\t {tn+fn+fp+tp}\")\n",
    "print(f\"Accuracy =\\t\\t\\t {round((tp+tn) /(tn+fn+fp+tp),4)}\")\n",
    "print(f\"Misclassification Rate =\\t {round((fp+fn) /(tn+fn+fp+tp),4)}\")\n",
    "print(f\"True Positive Rate (Recall) =\\t {round((tp) /(fn+tp),4)}\")\n",
    "print(f\"False Positive Rate =\\t\\t {round((fp) /(fp+tn),4)}\")\n",
    "print(f\"True Negative Rate =\\t\\t {round((tn) /(fp+tn),4)}\")\n",
    "print(f\"Precision =\\t\\t\\t {round((tp) /(fp+tp),4)}\")"
   ]
  },
  {
   "cell_type": "code",
   "execution_count": 259,
   "metadata": {},
   "outputs": [
    {
     "data": {
      "text/plain": [
       "(1022, 2)"
      ]
     },
     "execution_count": 259,
     "metadata": {},
     "output_type": "execute_result"
    }
   ],
   "source": [
    "# create a dataframe of the actual results from the test data 'y_actual' and \n",
    "# the predicted values \n",
    "df2_results = pd.DataFrame(data={'y2_actual': y2_test, 'y2_prediction':y2_pred_class})\n",
    "df2_results.shape"
   ]
  },
  {
   "cell_type": "code",
   "execution_count": 260,
   "metadata": {},
   "outputs": [
    {
     "data": {
      "text/plain": [
       "(91, 2)"
      ]
     },
     "execution_count": 260,
     "metadata": {},
     "output_type": "execute_result"
    }
   ],
   "source": [
    "# False positive \n",
    "df2_false_pos = df2_results.query('y2_actual == 1 and y2_prediction == 5')\n",
    "df2_false_pos.shape"
   ]
  },
  {
   "cell_type": "code",
   "execution_count": 261,
   "metadata": {},
   "outputs": [
    {
     "data": {
      "text/plain": [
       "(10, 2)"
      ]
     },
     "execution_count": 261,
     "metadata": {},
     "output_type": "execute_result"
    }
   ],
   "source": [
    "# False negative\n",
    "df2_false_neg = df2_results.query('y2_actual == 5 and y2_prediction == 1')\n",
    "df2_false_neg.shape"
   ]
  },
  {
   "cell_type": "code",
   "execution_count": 262,
   "metadata": {},
   "outputs": [
    {
     "data": {
      "text/plain": [
       "(813, 2)"
      ]
     },
     "execution_count": 262,
     "metadata": {},
     "output_type": "execute_result"
    }
   ],
   "source": [
    "# true positive\n",
    "df2_true_pos = df2_results.query('y2_actual == 5 and y2_prediction == 5')\n",
    "df2_true_pos.shape"
   ]
  },
  {
   "cell_type": "code",
   "execution_count": 263,
   "metadata": {},
   "outputs": [
    {
     "data": {
      "text/plain": [
       "(108, 2)"
      ]
     },
     "execution_count": 263,
     "metadata": {},
     "output_type": "execute_result"
    }
   ],
   "source": [
    "# true negative\n",
    "df2_true_neg = df2_results.query('y2_actual == 1 and y2_prediction == 1')\n",
    "df2_true_neg.shape"
   ]
  },
  {
   "cell_type": "markdown",
   "metadata": {},
   "source": [
    "### Exploring Type I Errors (False Positive)\n",
    "Lets take a more detailed look at the `false positives` to see if there is anything that indicated whey these values have been incorrectly classified.  "
   ]
  },
  {
   "cell_type": "code",
   "execution_count": 264,
   "metadata": {},
   "outputs": [
    {
     "data": {
      "text/html": [
       "<div>\n",
       "<style scoped>\n",
       "    .dataframe tbody tr th:only-of-type {\n",
       "        vertical-align: middle;\n",
       "    }\n",
       "\n",
       "    .dataframe tbody tr th {\n",
       "        vertical-align: top;\n",
       "    }\n",
       "\n",
       "    .dataframe thead th {\n",
       "        text-align: right;\n",
       "    }\n",
       "</style>\n",
       "<table border=\"1\" class=\"dataframe\">\n",
       "  <thead>\n",
       "    <tr style=\"text-align: right;\">\n",
       "      <th></th>\n",
       "      <th>y2_actual</th>\n",
       "      <th>y2_prediction</th>\n",
       "      <th>text</th>\n",
       "    </tr>\n",
       "  </thead>\n",
       "  <tbody>\n",
       "    <tr>\n",
       "      <th>1406</th>\n",
       "      <td>1</td>\n",
       "      <td>5</td>\n",
       "      <td>From my door, it's a five minute stroll throug...</td>\n",
       "    </tr>\n",
       "    <tr>\n",
       "      <th>1792</th>\n",
       "      <td>5</td>\n",
       "      <td>5</td>\n",
       "      <td>This is by far the best Chicken Fried Steak ar...</td>\n",
       "    </tr>\n",
       "    <tr>\n",
       "      <th>7723</th>\n",
       "      <td>5</td>\n",
       "      <td>5</td>\n",
       "      <td>Ok so us 5 hot chix got all dolled up for dinn...</td>\n",
       "    </tr>\n",
       "    <tr>\n",
       "      <th>2416</th>\n",
       "      <td>5</td>\n",
       "      <td>5</td>\n",
       "      <td>Located in the space formerly occupied by LGO'...</td>\n",
       "    </tr>\n",
       "    <tr>\n",
       "      <th>6111</th>\n",
       "      <td>5</td>\n",
       "      <td>5</td>\n",
       "      <td>Does anyone know why their regular subs are $1...</td>\n",
       "    </tr>\n",
       "    <tr>\n",
       "      <th>...</th>\n",
       "      <td>...</td>\n",
       "      <td>...</td>\n",
       "      <td>...</td>\n",
       "    </tr>\n",
       "    <tr>\n",
       "      <th>4729</th>\n",
       "      <td>5</td>\n",
       "      <td>5</td>\n",
       "      <td>Alas...I've given up the idea of writing a rev...</td>\n",
       "    </tr>\n",
       "    <tr>\n",
       "      <th>3305</th>\n",
       "      <td>5</td>\n",
       "      <td>5</td>\n",
       "      <td>This has got to be the best barber shop I've e...</td>\n",
       "    </tr>\n",
       "    <tr>\n",
       "      <th>2249</th>\n",
       "      <td>5</td>\n",
       "      <td>5</td>\n",
       "      <td>Simple but really great cajun food prepared in...</td>\n",
       "    </tr>\n",
       "    <tr>\n",
       "      <th>1443</th>\n",
       "      <td>5</td>\n",
       "      <td>5</td>\n",
       "      <td>Awesome food anyone??? Go check out Modern Ste...</td>\n",
       "    </tr>\n",
       "    <tr>\n",
       "      <th>3652</th>\n",
       "      <td>1</td>\n",
       "      <td>1</td>\n",
       "      <td>I was very disappointed in my encounter with t...</td>\n",
       "    </tr>\n",
       "  </tbody>\n",
       "</table>\n",
       "<p>1022 rows × 3 columns</p>\n",
       "</div>"
      ],
      "text/plain": [
       "      y2_actual  y2_prediction  \\\n",
       "1406          1              5   \n",
       "1792          5              5   \n",
       "7723          5              5   \n",
       "2416          5              5   \n",
       "6111          5              5   \n",
       "...         ...            ...   \n",
       "4729          5              5   \n",
       "3305          5              5   \n",
       "2249          5              5   \n",
       "1443          5              5   \n",
       "3652          1              1   \n",
       "\n",
       "                                                   text  \n",
       "1406  From my door, it's a five minute stroll throug...  \n",
       "1792  This is by far the best Chicken Fried Steak ar...  \n",
       "7723  Ok so us 5 hot chix got all dolled up for dinn...  \n",
       "2416  Located in the space formerly occupied by LGO'...  \n",
       "6111  Does anyone know why their regular subs are $1...  \n",
       "...                                                 ...  \n",
       "4729  Alas...I've given up the idea of writing a rev...  \n",
       "3305  This has got to be the best barber shop I've e...  \n",
       "2249  Simple but really great cajun food prepared in...  \n",
       "1443  Awesome food anyone??? Go check out Modern Ste...  \n",
       "3652  I was very disappointed in my encounter with t...  \n",
       "\n",
       "[1022 rows x 3 columns]"
      ]
     },
     "execution_count": 264,
     "metadata": {},
     "output_type": "execute_result"
    }
   ],
   "source": [
    "# merge results with the test data on the index\n",
    "df2_merged_results = df2_results.merge(X2_test,left_index=True,right_index=True)\n",
    "df2_merged_results"
   ]
  },
  {
   "cell_type": "code",
   "execution_count": 265,
   "metadata": {},
   "outputs": [],
   "source": [
    "# export the false positives for Excel for visual review\n",
    "false_pos2 = df2_merged_results.query('y2_actual == 1 and y2_prediction == 5')\n",
    "false_pos2.to_excel('false_positives.xlsx',sheet_name='false_pos2',index=True)"
   ]
  },
  {
   "cell_type": "code",
   "execution_count": 266,
   "metadata": {},
   "outputs": [],
   "source": [
    "# export the false positives for Excel for visual review\n",
    "true_neg2 = df2_merged_results.query('y2_actual == 1 and y2_prediction == 1')\n",
    "true_neg2.to_excel('true_neg.xlsx',sheet_name='true_neg2',index=True)"
   ]
  },
  {
   "cell_type": "markdown",
   "metadata": {},
   "source": [
    "### The Stats Type I Error Review Length \n",
    "We wanted to look at some quick stats on false positive and true negative to check if there is anything that might provide a quick indication into the Type I Error. We calculated the length of each review and the stats are similar. The mean character count was 770 for false positives and 825 for true positives. The assumption was there would be a large difference in the mean that might explain the false positive.  We can dig into this in more detail if we are not able to find a reason for the false positives.  \n",
    "\n",
    "\n",
    "1. **False Positive** (76 times predicted \"5\" actual was \"1\")\n",
    "2. **True Positive** (805 times predicted \"5\" actual was \"5\")"
   ]
  },
  {
   "cell_type": "code",
   "execution_count": 267,
   "metadata": {
    "code_folding": [
     0
    ]
   },
   "outputs": [
    {
     "name": "stdout",
     "output_type": "stream",
     "text": [
      "Mean False Positive:\t\t 839\n",
      "Max False Positive:\t\t 3163\n",
      "Min False Positive:\t\t 28\n",
      "variance False Positive:\t 610913.7333333333\n",
      "Std False Positive:\t\t 781.6097065245117\n"
     ]
    }
   ],
   "source": [
    "# calculate the length of each review \n",
    "from statistics import mean, stdev, variance\n",
    "false_pos_len = []\n",
    "for i in range(len(false_pos2['text'])):\n",
    "    false_pos_len.append( len(false_pos2['text'].iloc[i]) )\n",
    "    \n",
    "print(f\"Mean False Positive:\\t\\t {mean(false_pos_len)}\")\n",
    "print(f\"Max False Positive:\\t\\t {max(false_pos_len)}\")\n",
    "print(f\"Min False Positive:\\t\\t {min(false_pos_len)}\")\n",
    "print(f\"variance False Positive:\\t {variance(false_pos_len)}\")\n",
    "print(f\"Std False Positive:\\t\\t {stdev(false_pos_len)}\")"
   ]
  },
  {
   "cell_type": "code",
   "execution_count": 268,
   "metadata": {
    "code_folding": [
     0
    ]
   },
   "outputs": [
    {
     "name": "stdout",
     "output_type": "stream",
     "text": [
      "Mean False Positive:\t\t 775.1481481481482\n",
      "Max False Positive:\t\t 3523\n",
      "Min False Positive:\t\t 57\n",
      "variance False Positive:\t 401518.12737971614\n",
      "Std False Positive:\t\t 633.6545804929656\n"
     ]
    }
   ],
   "source": [
    "# calculate the length of each review \n",
    "true_neg_len = []\n",
    "for i in range(len(true_neg2['text'])):\n",
    "    true_neg_len.append( len(true_neg2['text'].iloc[i]) )\n",
    "    \n",
    "print(f\"Mean False Positive:\\t\\t {mean(true_neg_len)}\")\n",
    "print(f\"Max False Positive:\\t\\t {max(true_neg_len)}\")\n",
    "print(f\"Min False Positive:\\t\\t {min(true_neg_len)}\")\n",
    "print(f\"variance False Positive:\\t {variance(true_neg_len)}\")\n",
    "print(f\"Std False Positive:\\t\\t {stdev(true_neg_len)}\")"
   ]
  },
  {
   "cell_type": "markdown",
   "metadata": {},
   "source": [
    "### Convert X2_test Feature Names DataFrame\n",
    "To help explore the `Document-Term Matrix` created for `X2_test` we will convert it to a dataframe that will have 1,022 observations by 16,712 words.  Then we will sum each column and create another dataframe with a column called `word_count`. The index will be the actual words that we can then sort and call `nlargest` on to view the words.  "
   ]
  },
  {
   "cell_type": "code",
   "execution_count": 269,
   "metadata": {},
   "outputs": [
    {
     "data": {
      "text/plain": [
       "(1022, 25800)"
      ]
     },
     "execution_count": 269,
     "metadata": {},
     "output_type": "execute_result"
    }
   ],
   "source": [
    "X2_test_dtm.shape"
   ]
  },
  {
   "cell_type": "code",
   "execution_count": 270,
   "metadata": {},
   "outputs": [
    {
     "data": {
      "text/plain": [
       "(1022, 29185)"
      ]
     },
     "execution_count": 270,
     "metadata": {},
     "output_type": "execute_result"
    }
   ],
   "source": [
    "# create initial dataframe from X_test \n",
    "X2_test_dtm = vect.transform(X2_test)\n",
    "col_names = vect.get_feature_names()\n",
    "df2_feature_names =  pd.DataFrame(X2_test_dtm.toarray(), columns=col_names)\n",
    "df2_feature_names.shape"
   ]
  },
  {
   "cell_type": "code",
   "execution_count": 271,
   "metadata": {},
   "outputs": [
    {
     "data": {
      "text/plain": [
       "the      6197\n",
       "and      4326\n",
       "to       3009\n",
       "of       2005\n",
       "it       1890\n",
       "was      1730\n",
       "is       1701\n",
       "for      1503\n",
       "in       1498\n",
       "that     1236\n",
       "my       1180\n",
       "you      1113\n",
       "with     1092\n",
       "this     1075\n",
       "we       1022\n",
       "they      993\n",
       "on        857\n",
       "have      846\n",
       "but       846\n",
       "had       717\n",
       "not       704\n",
       "are       701\n",
       "at        673\n",
       "place     660\n",
       "so        649\n",
       "Name: word_count, dtype: int64"
      ]
     },
     "execution_count": 271,
     "metadata": {},
     "output_type": "execute_result"
    }
   ],
   "source": [
    "# modify the dataframe from above and show the TOP 25\n",
    "df2_feature_names_sum = df2_feature_names.sum(axis=0)\n",
    "df2_new = pd.DataFrame(df2_feature_names_sum,columns=['word_count'])\n",
    "df2_new.sort_values(by=['word_count'],inplace=True,ascending=False)\n",
    "df2_new['word_count'].nlargest(n=25)"
   ]
  },
  {
   "cell_type": "markdown",
   "metadata": {},
   "source": [
    "### MultinominalNB Attributes\n",
    "\n",
    "**Attributes:** \n",
    "1. `class_count_` Number of samples encountered for each class during fitting. This value is weighted by the sample weight when provided.  X_train has a shape of (3064,) which is aligned with the split `array([ 550., 2514.])` returned below. **550** would be the number of 1-star reviews and **2514** would be the 5-star reviews. \n",
    "\n",
    "\n",
    "2. `classes_` returns the labels known to the classifier. array([1, 5]) tells is correct and confirm the order that sklearn returns \n",
    "\n",
    "\n",
    "3. `n_features_` returns the number of features. Our classifier created 16,712 words from the reviews in X_test. \n",
    "\n",
    "\n",
    "4. `feature_count_` Number of samples encountered for each (class, feature) during fitting. This value is weighted by the sample weight when provided. For this dataset it will return an array `2 x 16,712` that will have all the features broken down by number of times in each class: `5-Star and 1-Star`."
   ]
  },
  {
   "cell_type": "code",
   "execution_count": 272,
   "metadata": {},
   "outputs": [
    {
     "data": {
      "text/plain": [
       "array([ 550., 2514.])"
      ]
     },
     "execution_count": 272,
     "metadata": {},
     "output_type": "execute_result"
    }
   ],
   "source": [
    "# class_count_ provides \n",
    "nb2.class_count_"
   ]
  },
  {
   "cell_type": "code",
   "execution_count": 273,
   "metadata": {},
   "outputs": [
    {
     "data": {
      "text/plain": [
       "array([1, 5], dtype=int64)"
      ]
     },
     "execution_count": 273,
     "metadata": {},
     "output_type": "execute_result"
    }
   ],
   "source": [
    "nb2.classes_"
   ]
  },
  {
   "cell_type": "code",
   "execution_count": 274,
   "metadata": {},
   "outputs": [
    {
     "data": {
      "text/plain": [
       "25800"
      ]
     },
     "execution_count": 274,
     "metadata": {},
     "output_type": "execute_result"
    }
   ],
   "source": [
    "nb2.n_features_"
   ]
  },
  {
   "cell_type": "code",
   "execution_count": 275,
   "metadata": {},
   "outputs": [
    {
     "data": {
      "text/plain": [
       "(2, 25800)"
      ]
     },
     "execution_count": 275,
     "metadata": {},
     "output_type": "execute_result"
    }
   ],
   "source": [
    "# print the shape of feature_count_\n",
    "nb2.feature_count_.shape"
   ]
  },
  {
   "cell_type": "code",
   "execution_count": 276,
   "metadata": {},
   "outputs": [
    {
     "data": {
      "text/plain": [
       "array([[28.,  4.,  1., ...,  0.,  0.,  0.],\n",
       "       [38.,  5.,  0., ...,  1.,  1.,  0.]])"
      ]
     },
     "execution_count": 276,
     "metadata": {},
     "output_type": "execute_result"
    }
   ],
   "source": [
    "# index 0 of array is 1-star \n",
    "# index 1 of array is 5-star\n",
    "nb2.feature_count_"
   ]
  },
  {
   "cell_type": "markdown",
   "metadata": {},
   "source": [
    "## Calculating Predictability of Each Word\n",
    "Here we are going to create a DataFrame with all of the `words` from the reviews broken down by count by `class` where class is 1-star and 5-star.  This will allow us to view the top kth words that are associated with 1-star and 5-star reviews.  "
   ]
  },
  {
   "cell_type": "code",
   "execution_count": 277,
   "metadata": {},
   "outputs": [
    {
     "data": {
      "text/plain": [
       "array([ 550., 2514.])"
      ]
     },
     "execution_count": 277,
     "metadata": {},
     "output_type": "execute_result"
    }
   ],
   "source": [
    "# class_count_ provides \n",
    "X2_train_dtm = vect.transform(X2_train)\n",
    "nb2.fit(X2_train_dtm, y2_train)\n",
    "nb2.class_count_"
   ]
  },
  {
   "cell_type": "code",
   "execution_count": 278,
   "metadata": {},
   "outputs": [
    {
     "data": {
      "text/plain": [
       "array([28.,  4.,  0., ...,  0.,  0.,  0.])"
      ]
     },
     "execution_count": 278,
     "metadata": {},
     "output_type": "execute_result"
    }
   ],
   "source": [
    "# number of times each token appears across 1-star reviews\n",
    "token_count_1star = nb2.feature_count_[0, :]\n",
    "token_count_1star"
   ]
  },
  {
   "cell_type": "code",
   "execution_count": 279,
   "metadata": {},
   "outputs": [
    {
     "data": {
      "text/plain": [
       "array([38.,  5.,  0., ...,  1.,  1.,  0.])"
      ]
     },
     "execution_count": 279,
     "metadata": {},
     "output_type": "execute_result"
    }
   ],
   "source": [
    "# number of times each token appears across 5-star reviews\n",
    "token_count_5star = nb2.feature_count_[1, :]\n",
    "token_count_5star"
   ]
  },
  {
   "cell_type": "code",
   "execution_count": 280,
   "metadata": {},
   "outputs": [
    {
     "data": {
      "text/plain": [
       "29185"
      ]
     },
     "execution_count": 280,
     "metadata": {},
     "output_type": "execute_result"
    }
   ],
   "source": [
    "# store the vocabulary of X_train\n",
    "X2_train_tokens = vect.get_feature_names()\n",
    "len(X2_train_tokens)"
   ]
  },
  {
   "cell_type": "code",
   "execution_count": 281,
   "metadata": {},
   "outputs": [
    {
     "data": {
      "text/plain": [
       "(29185, 2)"
      ]
     },
     "execution_count": 281,
     "metadata": {},
     "output_type": "execute_result"
    }
   ],
   "source": [
    "# create a DataFrame of tokens with their separate 1 star and 5 star counts \n",
    "df2_tokens =  pd.DataFrame({'token':X2_train_tokens, 'one_star':token_count_1star, \n",
    "                                  'five_star':token_count_5star}).set_index('token')\n",
    "df2_tokens.shape"
   ]
  },
  {
   "cell_type": "code",
   "execution_count": 282,
   "metadata": {},
   "outputs": [
    {
     "data": {
      "text/html": [
       "<div>\n",
       "<style scoped>\n",
       "    .dataframe tbody tr th:only-of-type {\n",
       "        vertical-align: middle;\n",
       "    }\n",
       "\n",
       "    .dataframe tbody tr th {\n",
       "        vertical-align: top;\n",
       "    }\n",
       "\n",
       "    .dataframe thead th {\n",
       "        text-align: right;\n",
       "    }\n",
       "</style>\n",
       "<table border=\"1\" class=\"dataframe\">\n",
       "  <thead>\n",
       "    <tr style=\"text-align: right;\">\n",
       "      <th></th>\n",
       "      <th>one_star</th>\n",
       "      <th>five_star</th>\n",
       "    </tr>\n",
       "    <tr>\n",
       "      <th>token</th>\n",
       "      <th></th>\n",
       "      <th></th>\n",
       "    </tr>\n",
       "  </thead>\n",
       "  <tbody>\n",
       "    <tr>\n",
       "      <th>buttering</th>\n",
       "      <td>0.0</td>\n",
       "      <td>0.0</td>\n",
       "    </tr>\n",
       "    <tr>\n",
       "      <th>houseshow</th>\n",
       "      <td>0.0</td>\n",
       "      <td>0.0</td>\n",
       "    </tr>\n",
       "    <tr>\n",
       "      <th>chaude</th>\n",
       "      <td>0.0</td>\n",
       "      <td>0.0</td>\n",
       "    </tr>\n",
       "    <tr>\n",
       "      <th>forsaken</th>\n",
       "      <td>0.0</td>\n",
       "      <td>1.0</td>\n",
       "    </tr>\n",
       "    <tr>\n",
       "      <th>alfafa</th>\n",
       "      <td>0.0</td>\n",
       "      <td>0.0</td>\n",
       "    </tr>\n",
       "    <tr>\n",
       "      <th>plank</th>\n",
       "      <td>0.0</td>\n",
       "      <td>2.0</td>\n",
       "    </tr>\n",
       "    <tr>\n",
       "      <th>extremly</th>\n",
       "      <td>0.0</td>\n",
       "      <td>2.0</td>\n",
       "    </tr>\n",
       "    <tr>\n",
       "      <th>ilk</th>\n",
       "      <td>0.0</td>\n",
       "      <td>1.0</td>\n",
       "    </tr>\n",
       "    <tr>\n",
       "      <th>extrudes</th>\n",
       "      <td>0.0</td>\n",
       "      <td>0.0</td>\n",
       "    </tr>\n",
       "    <tr>\n",
       "      <th>gifted</th>\n",
       "      <td>0.0</td>\n",
       "      <td>0.0</td>\n",
       "    </tr>\n",
       "  </tbody>\n",
       "</table>\n",
       "</div>"
      ],
      "text/plain": [
       "           one_star  five_star\n",
       "token                         \n",
       "buttering       0.0        0.0\n",
       "houseshow       0.0        0.0\n",
       "chaude          0.0        0.0\n",
       "forsaken        0.0        1.0\n",
       "alfafa          0.0        0.0\n",
       "plank           0.0        2.0\n",
       "extremly        0.0        2.0\n",
       "ilk             0.0        1.0\n",
       "extrudes        0.0        0.0\n",
       "gifted          0.0        0.0"
      ]
     },
     "execution_count": 282,
     "metadata": {},
     "output_type": "execute_result"
    }
   ],
   "source": [
    "df2_tokens.sample(10)"
   ]
  },
  {
   "cell_type": "code",
   "execution_count": 283,
   "metadata": {},
   "outputs": [
    {
     "data": {
      "text/html": [
       "<div>\n",
       "<style scoped>\n",
       "    .dataframe tbody tr th:only-of-type {\n",
       "        vertical-align: middle;\n",
       "    }\n",
       "\n",
       "    .dataframe tbody tr th {\n",
       "        vertical-align: top;\n",
       "    }\n",
       "\n",
       "    .dataframe thead th {\n",
       "        text-align: right;\n",
       "    }\n",
       "</style>\n",
       "<table border=\"1\" class=\"dataframe\">\n",
       "  <thead>\n",
       "    <tr style=\"text-align: right;\">\n",
       "      <th></th>\n",
       "      <th>one_star</th>\n",
       "      <th>five_star</th>\n",
       "    </tr>\n",
       "    <tr>\n",
       "      <th>token</th>\n",
       "      <th></th>\n",
       "      <th></th>\n",
       "    </tr>\n",
       "  </thead>\n",
       "  <tbody>\n",
       "    <tr>\n",
       "      <th>barback</th>\n",
       "      <td>1.0</td>\n",
       "      <td>2.0</td>\n",
       "    </tr>\n",
       "    <tr>\n",
       "      <th>tablet</th>\n",
       "      <td>1.0</td>\n",
       "      <td>2.0</td>\n",
       "    </tr>\n",
       "    <tr>\n",
       "      <th>deserve</th>\n",
       "      <td>5.0</td>\n",
       "      <td>9.0</td>\n",
       "    </tr>\n",
       "    <tr>\n",
       "      <th>egalitarian</th>\n",
       "      <td>1.0</td>\n",
       "      <td>1.0</td>\n",
       "    </tr>\n",
       "    <tr>\n",
       "      <th>kinetic</th>\n",
       "      <td>1.0</td>\n",
       "      <td>1.0</td>\n",
       "    </tr>\n",
       "  </tbody>\n",
       "</table>\n",
       "</div>"
      ],
      "text/plain": [
       "             one_star  five_star\n",
       "token                           \n",
       "barback           1.0        2.0\n",
       "tablet            1.0        2.0\n",
       "deserve           5.0        9.0\n",
       "egalitarian       1.0        1.0\n",
       "kinetic           1.0        1.0"
      ]
     },
     "execution_count": 283,
     "metadata": {},
     "output_type": "execute_result"
    }
   ],
   "source": [
    "# add 1 to the counts to avoid dividing by 0 when converting to percents\n",
    "df2_tokens['one_star'] = df2_tokens['one_star'] + 1\n",
    "df2_tokens['five_star'] = df2_tokens['five_star'] + 1\n",
    "df2_tokens.sample(5)"
   ]
  },
  {
   "cell_type": "code",
   "execution_count": 284,
   "metadata": {},
   "outputs": [
    {
     "data": {
      "text/html": [
       "<div>\n",
       "<style scoped>\n",
       "    .dataframe tbody tr th:only-of-type {\n",
       "        vertical-align: middle;\n",
       "    }\n",
       "\n",
       "    .dataframe tbody tr th {\n",
       "        vertical-align: top;\n",
       "    }\n",
       "\n",
       "    .dataframe thead th {\n",
       "        text-align: right;\n",
       "    }\n",
       "</style>\n",
       "<table border=\"1\" class=\"dataframe\">\n",
       "  <thead>\n",
       "    <tr style=\"text-align: right;\">\n",
       "      <th></th>\n",
       "      <th>one_star</th>\n",
       "      <th>five_star</th>\n",
       "      <th>one_star_freq</th>\n",
       "      <th>five_star_freq</th>\n",
       "    </tr>\n",
       "    <tr>\n",
       "      <th>token</th>\n",
       "      <th></th>\n",
       "      <th></th>\n",
       "      <th></th>\n",
       "      <th></th>\n",
       "    </tr>\n",
       "  </thead>\n",
       "  <tbody>\n",
       "    <tr>\n",
       "      <th>chantrel</th>\n",
       "      <td>2.0</td>\n",
       "      <td>1.0</td>\n",
       "      <td>0.003636</td>\n",
       "      <td>0.000398</td>\n",
       "    </tr>\n",
       "    <tr>\n",
       "      <th>crude</th>\n",
       "      <td>1.0</td>\n",
       "      <td>1.0</td>\n",
       "      <td>0.001818</td>\n",
       "      <td>0.000398</td>\n",
       "    </tr>\n",
       "    <tr>\n",
       "      <th>poland</th>\n",
       "      <td>1.0</td>\n",
       "      <td>1.0</td>\n",
       "      <td>0.001818</td>\n",
       "      <td>0.000398</td>\n",
       "    </tr>\n",
       "    <tr>\n",
       "      <th>scramble</th>\n",
       "      <td>2.0</td>\n",
       "      <td>2.0</td>\n",
       "      <td>0.003636</td>\n",
       "      <td>0.000796</td>\n",
       "    </tr>\n",
       "    <tr>\n",
       "      <th>vacated</th>\n",
       "      <td>1.0</td>\n",
       "      <td>1.0</td>\n",
       "      <td>0.001818</td>\n",
       "      <td>0.000398</td>\n",
       "    </tr>\n",
       "  </tbody>\n",
       "</table>\n",
       "</div>"
      ],
      "text/plain": [
       "          one_star  five_star  one_star_freq  five_star_freq\n",
       "token                                                       \n",
       "chantrel       2.0        1.0       0.003636        0.000398\n",
       "crude          1.0        1.0       0.001818        0.000398\n",
       "poland         1.0        1.0       0.001818        0.000398\n",
       "scramble       2.0        2.0       0.003636        0.000796\n",
       "vacated        1.0        1.0       0.001818        0.000398"
      ]
     },
     "execution_count": 284,
     "metadata": {},
     "output_type": "execute_result"
    }
   ],
   "source": [
    "# convert the counts into frequencies\n",
    "# Now we can understand better the impact of word\n",
    "df2_tokens['one_star_freq'] = df2_tokens['one_star'] / nb2.class_count_[0]\n",
    "df2_tokens['five_star_freq'] = df2_tokens['five_star'] / nb2.class_count_[1]\n",
    "df2_tokens.sample(5)"
   ]
  },
  {
   "cell_type": "code",
   "execution_count": 285,
   "metadata": {},
   "outputs": [
    {
     "data": {
      "text/html": [
       "<div>\n",
       "<style scoped>\n",
       "    .dataframe tbody tr th:only-of-type {\n",
       "        vertical-align: middle;\n",
       "    }\n",
       "\n",
       "    .dataframe tbody tr th {\n",
       "        vertical-align: top;\n",
       "    }\n",
       "\n",
       "    .dataframe thead th {\n",
       "        text-align: right;\n",
       "    }\n",
       "</style>\n",
       "<table border=\"1\" class=\"dataframe\">\n",
       "  <thead>\n",
       "    <tr style=\"text-align: right;\">\n",
       "      <th></th>\n",
       "      <th>one_star</th>\n",
       "      <th>five_star</th>\n",
       "      <th>one_star_freq</th>\n",
       "      <th>five_star_freq</th>\n",
       "      <th>predict_ratio</th>\n",
       "      <th>predict_ratio_freq</th>\n",
       "    </tr>\n",
       "    <tr>\n",
       "      <th>token</th>\n",
       "      <th></th>\n",
       "      <th></th>\n",
       "      <th></th>\n",
       "      <th></th>\n",
       "      <th></th>\n",
       "      <th></th>\n",
       "    </tr>\n",
       "  </thead>\n",
       "  <tbody>\n",
       "    <tr>\n",
       "      <th>453990</th>\n",
       "      <td>1.0</td>\n",
       "      <td>2.0</td>\n",
       "      <td>0.001818</td>\n",
       "      <td>0.000796</td>\n",
       "      <td>2.000000</td>\n",
       "      <td>0.437550</td>\n",
       "    </tr>\n",
       "    <tr>\n",
       "      <th>underwhelmed</th>\n",
       "      <td>3.0</td>\n",
       "      <td>1.0</td>\n",
       "      <td>0.005455</td>\n",
       "      <td>0.000398</td>\n",
       "      <td>0.333333</td>\n",
       "      <td>0.072925</td>\n",
       "    </tr>\n",
       "    <tr>\n",
       "      <th>that</th>\n",
       "      <td>951.0</td>\n",
       "      <td>2529.0</td>\n",
       "      <td>1.729091</td>\n",
       "      <td>1.005967</td>\n",
       "      <td>2.659306</td>\n",
       "      <td>0.581789</td>\n",
       "    </tr>\n",
       "    <tr>\n",
       "      <th>yowza</th>\n",
       "      <td>1.0</td>\n",
       "      <td>2.0</td>\n",
       "      <td>0.001818</td>\n",
       "      <td>0.000796</td>\n",
       "      <td>2.000000</td>\n",
       "      <td>0.437550</td>\n",
       "    </tr>\n",
       "    <tr>\n",
       "      <th>pricey</th>\n",
       "      <td>2.0</td>\n",
       "      <td>43.0</td>\n",
       "      <td>0.003636</td>\n",
       "      <td>0.017104</td>\n",
       "      <td>21.500000</td>\n",
       "      <td>4.703660</td>\n",
       "    </tr>\n",
       "  </tbody>\n",
       "</table>\n",
       "</div>"
      ],
      "text/plain": [
       "              one_star  five_star  one_star_freq  five_star_freq  \\\n",
       "token                                                              \n",
       "453990             1.0        2.0       0.001818        0.000796   \n",
       "underwhelmed       3.0        1.0       0.005455        0.000398   \n",
       "that             951.0     2529.0       1.729091        1.005967   \n",
       "yowza              1.0        2.0       0.001818        0.000796   \n",
       "pricey             2.0       43.0       0.003636        0.017104   \n",
       "\n",
       "              predict_ratio  predict_ratio_freq  \n",
       "token                                            \n",
       "453990             2.000000            0.437550  \n",
       "underwhelmed       0.333333            0.072925  \n",
       "that               2.659306            0.581789  \n",
       "yowza              2.000000            0.437550  \n",
       "pricey            21.500000            4.703660  "
      ]
     },
     "execution_count": 285,
     "metadata": {},
     "output_type": "execute_result"
    }
   ],
   "source": [
    "# calculate the ratio of spam-to-ham for each token\n",
    "df2_tokens['predict_ratio'] =  df2_tokens['five_star'] / df2_tokens['one_star'] \n",
    "df2_tokens['predict_ratio_freq'] =  df2_tokens['five_star_freq'] / df2_tokens['one_star_freq']\n",
    "df2_tokens.sample(5)"
   ]
  },
  {
   "cell_type": "code",
   "execution_count": 286,
   "metadata": {},
   "outputs": [
    {
     "data": {
      "text/plain": [
       "token\n",
       "the     4198.0\n",
       "and     2633.0\n",
       "to      2351.0\n",
       "was     1484.0\n",
       "it      1327.0\n",
       "of      1266.0\n",
       "that     951.0\n",
       "in       948.0\n",
       "for      941.0\n",
       "my       878.0\n",
       "Name: one_star, dtype: float64"
      ]
     },
     "execution_count": 286,
     "metadata": {},
     "output_type": "execute_result"
    }
   ],
   "source": [
    "df2_tokens['one_star'].nlargest(n=10)"
   ]
  },
  {
   "cell_type": "code",
   "execution_count": 287,
   "metadata": {},
   "outputs": [
    {
     "data": {
      "text/plain": [
       "token\n",
       "the    14014.0\n",
       "and    10439.0\n",
       "to      6376.0\n",
       "of      4532.0\n",
       "is      4430.0\n",
       "it      4175.0\n",
       "in      3448.0\n",
       "was     3414.0\n",
       "for     3246.0\n",
       "you     3027.0\n",
       "Name: five_star, dtype: float64"
      ]
     },
     "execution_count": 287,
     "metadata": {},
     "output_type": "execute_result"
    }
   ],
   "source": [
    "df2_tokens['five_star'].nlargest(n=10)"
   ]
  },
  {
   "cell_type": "code",
   "execution_count": 288,
   "metadata": {},
   "outputs": [
    {
     "data": {
      "text/plain": [
       "token\n",
       "fantastic    42.661098\n",
       "perfect      17.793689\n",
       "fabulous     17.283214\n",
       "yum          13.564041\n",
       "favorite     13.476531\n",
       "awesome      10.902281\n",
       "fruit        10.501193\n",
       "pasty         9.188544\n",
       "bianco        8.750994\n",
       "gem           8.750994\n",
       "Name: predict_ratio_freq, dtype: float64"
      ]
     },
     "execution_count": 288,
     "metadata": {},
     "output_type": "execute_result"
    }
   ],
   "source": [
    "df2_tokens['predict_ratio_freq'].nlargest(n=10)"
   ]
  },
  {
   "cell_type": "code",
   "execution_count": 289,
   "metadata": {},
   "outputs": [
    {
     "data": {
      "text/plain": [
       "token\n",
       "fantastic    42.661098\n",
       "perfect      17.793689\n",
       "fabulous     17.283214\n",
       "yum          13.564041\n",
       "favorite     13.476531\n",
       "awesome      10.902281\n",
       "fruit        10.501193\n",
       "pasty         9.188544\n",
       "bianco        8.750994\n",
       "gem           8.750994\n",
       "Name: predict_ratio_freq, dtype: float64"
      ]
     },
     "execution_count": 289,
     "metadata": {},
     "output_type": "execute_result"
    }
   ],
   "source": [
    "df2_tokens['predict_ratio_freq'].nlargest(n=10)"
   ]
  },
  {
   "cell_type": "markdown",
   "metadata": {},
   "source": [
    "<a id=\"logreg\"></a>\n",
    "## Logistic Regression "
   ]
  },
  {
   "cell_type": "code",
   "execution_count": 290,
   "metadata": {},
   "outputs": [],
   "source": [
    "# classifier log reg\n",
    "log = LogisticRegression(max_iter=500, solver='liblinear')"
   ]
  },
  {
   "cell_type": "code",
   "execution_count": 291,
   "metadata": {},
   "outputs": [
    {
     "name": "stdout",
     "output_type": "stream",
     "text": [
      "[0.93765281 0.93268054 0.94124847 0.93268054 0.94614443]\n",
      "Mean Score: 0.9380813579408235\n"
     ]
    }
   ],
   "source": [
    "# fit_transform all 5-Star and 1-Star reviews into a document-term matrix\n",
    "# Also, ntoe here we can just use fit_transform\n",
    "X2_dtm = vect.fit_transform(X2)\n",
    "\n",
    "# this wil be used latter on when we run model on all reviews \n",
    "X_dtm = vect.fit_transform(X)\n",
    "\n",
    "print(cross_val_score(log, X2_dtm, y2, cv=5,scoring='accuracy'))\n",
    "print(f\"Mean Score: {cross_val_score(log, X2_dtm, y2,cv=5,scoring='accuracy').mean()}\")"
   ]
  },
  {
   "cell_type": "markdown",
   "metadata": {},
   "source": [
    "<a id=\"full\"></a>\n",
    "<div class=\"alert alert-block alert-info\">\n",
    "    <font size=\"+3\"><b>Full Dataset</b></font>\n",
    "</div>"
   ]
  },
  {
   "cell_type": "markdown",
   "metadata": {},
   "source": [
    "### Accuracy Score \n",
    "New we start the review process of the full dataset which will include 2, 3 and 4 star ratings. The counts for each ratings are as follows:\n",
    "\n",
    "* **4-Star** 3,526\n",
    "* **5-Star** 3,337\n",
    "* **3-Star** 1,461\n",
    "* **2-Star** 927\n",
    "* **1-Star** 749\n",
    "\n",
    "Reviewing the accuracy score we find that with adding in the other three ratings are score fell from 90% to 49%.  "
   ]
  },
  {
   "cell_type": "code",
   "execution_count": 292,
   "metadata": {},
   "outputs": [
    {
     "data": {
      "text/plain": [
       "0.4932"
      ]
     },
     "execution_count": 292,
     "metadata": {},
     "output_type": "execute_result"
    }
   ],
   "source": [
    "# check the accuracy score \n",
    "metrics.accuracy_score(y_test, y_pred_class)"
   ]
  },
  {
   "cell_type": "markdown",
   "metadata": {},
   "source": [
    "### Null Accuracy\n",
    "On the smaller dataset our if we decided to utilize null accuracy we would have selected the 5-start rating for all reviews and been correct 80% of the time which was only 10 points less than our classifier.  For the larger dataset we would select `4-Star` reviews and this would provide a correct prediction of **36 percent** which is 13 points below our classifier accuracy score of **49 percent**."
   ]
  },
  {
   "cell_type": "code",
   "execution_count": 293,
   "metadata": {},
   "outputs": [
    {
     "data": {
      "text/plain": [
       "4    3526\n",
       "5    3337\n",
       "3    1461\n",
       "2     927\n",
       "1     749\n",
       "Name: stars, dtype: int64"
      ]
     },
     "execution_count": 293,
     "metadata": {},
     "output_type": "execute_result"
    }
   ],
   "source": [
    "df['stars'].value_counts()"
   ]
  },
  {
   "cell_type": "code",
   "execution_count": 294,
   "metadata": {
    "code_folding": [
     0
    ]
   },
   "outputs": [
    {
     "name": "stdout",
     "output_type": "stream",
     "text": [
      "5 Stars count: 826\n",
      "4 Stars count: 898\n",
      "3 Stars count: 374\n",
      "2 Stars count: 221\n",
      "1 Stars count: 181\n"
     ]
    }
   ],
   "source": [
    "# calculate count for rating NOTE this is on y_test\n",
    "stars = y_test.value_counts()\n",
    "print(f\"5 Stars count: {stars.iloc[1]}\")\n",
    "print(f\"4 Stars count: {stars.iloc[0]}\")\n",
    "print(f\"3 Stars count: {stars.iloc[2]}\")\n",
    "print(f\"2 Stars count: {stars.iloc[3]}\")\n",
    "print(f\"1 Stars count: {stars.iloc[4]}\")"
   ]
  },
  {
   "cell_type": "code",
   "execution_count": 295,
   "metadata": {
    "code_folding": [
     0
    ]
   },
   "outputs": [
    {
     "name": "stdout",
     "output_type": "stream",
     "text": [
      "5 Star Percent: 0.3304\n",
      "4 Star Percent: 0.3592\n",
      "3 Star Percent: 0.1496\n",
      "2 Star Percent: 0.0884\n",
      "1 Star Precent: 0.0724\n"
     ]
    }
   ],
   "source": [
    "# calculate the precent of each rating NOTE this is on y_test\n",
    "stars = y_test.value_counts()\n",
    "print(f\"5 Star Percent: {stars.iloc[1] / len(y_test)}\")\n",
    "print(f\"4 Star Percent: {stars.iloc[0] / len(y_test)}\")\n",
    "print(f\"3 Star Percent: {stars.iloc[2] / len(y_test)}\")\n",
    "print(f\"2 Star Percent: {stars.iloc[3] / len(y_test)}\")\n",
    "print(f\"1 Star Precent: {stars.iloc[4] / len(y_test)}\")"
   ]
  },
  {
   "cell_type": "markdown",
   "metadata": {},
   "source": [
    "### Confusion Matrix \n",
    "Plotting the confusion matrix makes evaluating the results a little easier. We correctly classified 661 of 4-Star reviews and 461 of 5-Star reviews.  Our big miss was predicting 4-star when it was actually a 5-Star which happened 356 times follow by predicting 4-Star but it was actually a 3-Star.  216 times we predicted 5-Star but it was actually 4-Star. \n",
    "\n"
   ]
  },
  {
   "cell_type": "code",
   "execution_count": 296,
   "metadata": {},
   "outputs": [
    {
     "data": {
      "text/plain": [
       "array([[ 50,  24,  18,  67,  22],\n",
       "       [ 16,  21,  38, 124,  22],\n",
       "       [  5,   9,  40, 278,  42],\n",
       "       [  8,   4,   9, 661, 216],\n",
       "       [  4,   0,   5, 356, 461]], dtype=int64)"
      ]
     },
     "execution_count": 296,
     "metadata": {},
     "output_type": "execute_result"
    }
   ],
   "source": [
    "# calcualte confusion matrix\n",
    "# actual or True y results are always first in sklearn\n",
    "cm = metrics.confusion_matrix(y_test, y_pred_class)\n",
    "cm"
   ]
  },
  {
   "cell_type": "code",
   "execution_count": 297,
   "metadata": {
    "code_folding": [
     0
    ]
   },
   "outputs": [
    {
     "data": {
      "image/png": "[encoded data removed]",
      "text/plain": [
       "<Figure size 720x360 with 2 Axes>"
      ]
     },
     "metadata": {
      "needs_background": "light"
     },
     "output_type": "display_data"
    }
   ],
   "source": [
    "# plot the confusion matrix\n",
    "plt.figure(figsize = [10,5])\n",
    "ax= plt.subplot()\n",
    "sns.heatmap(cm, annot=True, ax = ax,fmt=\"d\",\n",
    "            linewidths=1.0, cmap=\"YlGnBu\"); #annot=True to annotate cells\n",
    "\n",
    "ax.set_xlabel('Predicted labels');\n",
    "ax.set_ylabel('True labels'); \n",
    "ax.set_title('Confusion Matrix'); \n",
    "ax.xaxis.set_ticklabels(['1-Star','2-Star','3-Star','4-Star', '5-Star']); \n",
    "ax.yaxis.set_ticklabels(['1-Star','2-Star','3-Star','4-Star', '5-Star']);"
   ]
  },
  {
   "cell_type": "code",
   "execution_count": 298,
   "metadata": {},
   "outputs": [
    {
     "name": "stdout",
     "output_type": "stream",
     "text": [
      "Double Check test is 2,500 observastions: 2500\n"
     ]
    }
   ],
   "source": [
    "a = sum(cm)\n",
    "print(f\"Double Check test is 2,500 observastions: {sum(a)}\")"
   ]
  },
  {
   "cell_type": "markdown",
   "metadata": {},
   "source": [
    "## Classification Report \n",
    "Reviewing the classification report we want to first look at the `Precision Rate` which measures how well the model predicted our ratings.  For `5-Star` ratings the model predicted 60% correctly followed by `1-Star` reviews at 60%, too. The 3 middle values had a much lower precision rate. Does out model predict the ends better?  The `recall rating` for 4-Star reviews was 74 percent. Next, was 5-Star reviews at 56 percent.  \n",
    "\n",
    "When tunning the model we should explore of to increase the precision score even if results in recall percent reduction. A higher precision on 4 and 3 star reviews will increase accuracy. "
   ]
  },
  {
   "cell_type": "code",
   "execution_count": 299,
   "metadata": {},
   "outputs": [],
   "source": [
    "from sklearn.metrics import classification_report"
   ]
  },
  {
   "cell_type": "code",
   "execution_count": 300,
   "metadata": {},
   "outputs": [
    {
     "name": "stdout",
     "output_type": "stream",
     "text": [
      "              precision    recall  f1-score   support\n",
      "\n",
      "      1-Star       0.60      0.28      0.38       181\n",
      "      2-Star       0.36      0.10      0.15       221\n",
      "      3-Star       0.36      0.11      0.17       374\n",
      "      4-Star       0.44      0.74      0.55       898\n",
      "      5-Star       0.60      0.56      0.58       826\n",
      "\n",
      "    accuracy                           0.49      2500\n",
      "   macro avg       0.48      0.35      0.37      2500\n",
      "weighted avg       0.49      0.49      0.46      2500\n",
      "\n"
     ]
    }
   ],
   "source": [
    "# run classification report \n",
    "target_names = ['1-Star','2-Star','3-Star','4-Star', '5-Star']\n",
    "print(classification_report(y_test, y_pred_class, target_names=target_names))"
   ]
  },
  {
   "cell_type": "code",
   "execution_count": 301,
   "metadata": {},
   "outputs": [
    {
     "data": {
      "text/plain": [
       "4    898\n",
       "5    826\n",
       "3    374\n",
       "2    221\n",
       "1    181\n",
       "Name: stars, dtype: int64"
      ]
     },
     "execution_count": 301,
     "metadata": {},
     "output_type": "execute_result"
    }
   ],
   "source": [
    "y_test.value_counts()"
   ]
  },
  {
   "cell_type": "markdown",
   "metadata": {},
   "source": [
    "## Logistic Regression Full Dataset \n",
    "Running logistic regression with cross validation set at 5 and 10.  The scores are both at 50% so based on the fact that this dataset is only 10,000 observations if this model was select for production we would want to set `CV` at 5 to reduce training time.  "
   ]
  },
  {
   "cell_type": "code",
   "execution_count": 302,
   "metadata": {},
   "outputs": [],
   "source": [
    "from sklearn.linear_model import LogisticRegression\n",
    "log = LogisticRegression(max_iter=500, solver='liblinear')\n",
    "\n",
    "X_dtm = vect.fit_transform(X)"
   ]
  },
  {
   "cell_type": "markdown",
   "metadata": {},
   "source": [
    "## Logistic Regression K-Fold Cross Validation  CV = 5"
   ]
  },
  {
   "cell_type": "code",
   "execution_count": 303,
   "metadata": {},
   "outputs": [
    {
     "name": "stdout",
     "output_type": "stream",
     "text": [
      "[0.48   0.5035 0.51   0.5025 0.488 ]\n",
      "Mean Score: 0.4968\n"
     ]
    }
   ],
   "source": [
    "# Full dataset  \n",
    "cv = 5 \n",
    "print(cross_val_score(log, X_dtm, y, cv=5,scoring='accuracy'))\n",
    "print(f\"Mean Score: {cross_val_score(log, X_dtm, y,cv=cv,scoring='accuracy').mean()}\")"
   ]
  },
  {
   "cell_type": "markdown",
   "metadata": {},
   "source": [
    "## Logistic Regression K-Fold Cross Validation  CV = 10"
   ]
  },
  {
   "cell_type": "code",
   "execution_count": 304,
   "metadata": {},
   "outputs": [
    {
     "name": "stdout",
     "output_type": "stream",
     "text": [
      "[0.481 0.492 0.496 0.517 0.509 0.505 0.485 0.526 0.484 0.493]\n",
      "Mean Score: 0.4988\n"
     ]
    }
   ],
   "source": [
    "# Full dataset  \n",
    "cv = 10\n",
    "print(cross_val_score(log, X_dtm, y, cv=cv,scoring='accuracy'))\n",
    "print(f\"Mean Score: {cross_val_score(log, X_dtm, y,cv=cv,scoring='accuracy').mean()}\")"
   ]
  },
  {
   "cell_type": "markdown",
   "metadata": {},
   "source": [
    "## MN Naive Bayes K-Fold Cross Validation  CV 5 and CV 10\n",
    "Here we used the `nb` classifier and set cv=5 and cv = 10. Using NB runs a lot faster compared with logistic regression and because they have similar scores at this point the recommendation would be to use Cross Validation set at 10 with MultionomailNB classifier. "
   ]
  },
  {
   "cell_type": "code",
   "execution_count": 305,
   "metadata": {},
   "outputs": [
    {
     "name": "stdout",
     "output_type": "stream",
     "text": [
      "[0.491  0.479  0.496  0.4895 0.4975]\n",
      "Mean Score: 0.4906\n"
     ]
    }
   ],
   "source": [
    "# Full dataset  with NB\n",
    "cv = 5 \n",
    "print(cross_val_score(nb, X_dtm, y, cv=5,scoring='accuracy'))\n",
    "print(f\"Mean Score: {cross_val_score(nb, X_dtm, y,cv=cv,scoring='accuracy').mean()}\")"
   ]
  },
  {
   "cell_type": "code",
   "execution_count": 306,
   "metadata": {},
   "outputs": [
    {
     "name": "stdout",
     "output_type": "stream",
     "text": [
      "[0.491  0.479  0.496  0.4895 0.4975]\n",
      "Mean Score: 0.49639999999999995\n"
     ]
    }
   ],
   "source": [
    "# Full dataset  with NB\n",
    "cv = 10\n",
    "print(cross_val_score(nb, X_dtm, y, cv=5,scoring='accuracy'))\n",
    "print(f\"Mean Score: {cross_val_score(nb, X_dtm, y,cv=cv,scoring='accuracy').mean()}\")"
   ]
  },
  {
   "cell_type": "markdown",
   "metadata": {},
   "source": [
    "## Decision Tree K-Fold Cross Validation  CV 5\n",
    "The original result with default settings was 0.39 and by adjusting min samples to 22 and max leaf nodes to 25 we achieved a score of 42 percent. We already have two other classifiers at 49% so additional tuning is probably not wise. "
   ]
  },
  {
   "cell_type": "code",
   "execution_count": 307,
   "metadata": {},
   "outputs": [],
   "source": [
    "# create the classifier standard  \n",
    "dt = tree.DecisionTreeClassifier(min_samples_split = 22, \n",
    "                                               random_state = 42,\n",
    "                                               max_leaf_nodes=25)"
   ]
  },
  {
   "cell_type": "code",
   "execution_count": 308,
   "metadata": {},
   "outputs": [
    {
     "name": "stdout",
     "output_type": "stream",
     "text": [
      "[0.4115 0.4235 0.4335 0.4135 0.4185]\n",
      "Mean Score: 0.4201\n"
     ]
    }
   ],
   "source": [
    "cv = 5 \n",
    "print(cross_val_score(dt, X_dtm, y, cv=5,scoring='accuracy'))\n",
    "print(f\"Mean Score: {cross_val_score(dt, X_dtm, y,cv=cv,scoring='accuracy').mean()}\")"
   ]
  },
  {
   "cell_type": "markdown",
   "metadata": {},
   "source": [
    "<a id=\"sum\"></a>\n",
    "<div class=\"alert alert-block alert-info\">\n",
    "    <font size=\"+3\"><b>Summary</b></font>\n",
    "</div>"
   ]
  },
  {
   "cell_type": "markdown",
   "metadata": {},
   "source": [
    "Based on the work completed the best model would be **MN Naive Bayes** with Cross-Validation set at 10.  This will provide the best prediction of the users rating based on the text.  Additional consideration should be given to optimizing the logistic regression model.\n",
    "\n",
    "The next step will be to use the model for the initial pass based on the original dataset for the Kaggle Competition.  "
   ]
  },
  {
   "cell_type": "code",
   "execution_count": null,
   "metadata": {},
   "outputs": [],
   "source": []
  }
 ],
 "metadata": {
  "hide_input": false,
  "kernelspec": {
   "display_name": "Python 3",
   "language": "python",
   "name": "python3"
  },
  "language_info": {
   "codemirror_mode": {
    "name": "ipython",
    "version": 3
   },
   "file_extension": ".py",
   "mimetype": "text/x-python",
   "name": "python",
   "nbconvert_exporter": "python",
   "pygments_lexer": "ipython3",
   "version": "3.7.7"
  },
  "latex_envs": {
   "LaTeX_envs_menu_present": true,
   "autoclose": false,
   "autocomplete": true,
   "bibliofile": "biblio.bib",
   "cite_by": "apalike",
   "current_citInitial": 1,
   "eqLabelWithNumbers": true,
   "eqNumInitial": 1,
   "hotkeys": {
    "equation": "Ctrl-E",
    "itemize": "Ctrl-I"
   },
   "labels_anchors": false,
   "latex_user_defs": false,
   "report_style_numbering": false,
   "user_envs_cfg": false
  },
  "toc": {
   "base_numbering": 1,
   "nav_menu": {},
   "number_sections": true,
   "sideBar": true,
   "skip_h1_title": false,
   "title_cell": "Table of Contents",
   "title_sidebar": "Contents",
   "toc_cell": false,
   "toc_position": {},
   "toc_section_display": true,
   "toc_window_display": false
  },
  "varInspector": {
   "cols": {
    "lenName": 16,
    "lenType": 16,
    "lenVar": 40
   },
   "kernels_config": {
    "python": {
     "delete_cmd_postfix": "",
     "delete_cmd_prefix": "del ",
     "library": "var_list.py",
     "varRefreshCmd": "print(var_dic_list())"
    },
    "r": {
     "delete_cmd_postfix": ") ",
     "delete_cmd_prefix": "rm(",
     "library": "var_list.r",
     "varRefreshCmd": "cat(var_dic_list()) "
    }
   },
   "types_to_exclude": [
    "module",
    "function",
    "builtin_function_or_method",
    "instance",
    "_Feature"
   ],
   "window_display": false
  }
 },
 "nbformat": 4,
 "nbformat_minor": 4
}
